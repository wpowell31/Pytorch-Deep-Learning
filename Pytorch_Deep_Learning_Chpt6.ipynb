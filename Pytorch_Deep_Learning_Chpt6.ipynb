{
  "nbformat": 4,
  "nbformat_minor": 0,
  "metadata": {
    "colab": {
      "provenance": []
    },
    "kernelspec": {
      "name": "python3",
      "display_name": "Python 3"
    },
    "language_info": {
      "name": "python"
    }
  },
  "cells": [
    {
      "cell_type": "code",
      "execution_count": 1,
      "metadata": {
        "id": "wMCjiiygilOQ"
      },
      "outputs": [],
      "source": [
        "%matplotlib inline\n",
        "import numpy as np\n",
        "import torch\n",
        "import torch.optim as optim\n",
        "\n",
        "torch.set_printoptions(edgeitems=2, linewidth=75)\n",
        "\n",
        "\n",
        "t_c = [0.5,  14.0, 15.0, 28.0, 11.0,  8.0,  3.0, -4.0,  6.0, 13.0, 21.0]\n",
        "t_u = [35.7, 55.9, 58.2, 81.9, 56.3, 48.9, 33.9, 21.8, 48.4, 60.4, 68.4]\n",
        "t_c = torch.tensor(t_c).unsqueeze(1) # <1>\n",
        "t_u = torch.tensor(t_u).unsqueeze(1) # <1>\n",
        "\n",
        "n_samples = t_u.shape[0]\n",
        "n_val = int(0.2 * n_samples)\n",
        "\n",
        "shuffled_indices = torch.randperm(n_samples)\n",
        "\n",
        "train_indices = shuffled_indices[:-n_val]\n",
        "val_indices = shuffled_indices[-n_val:]\n",
        "\n",
        "t_u_train = t_u[train_indices]\n",
        "t_c_train = t_c[train_indices]\n",
        "\n",
        "t_u_val = t_u[val_indices]\n",
        "t_c_val = t_c[val_indices]\n",
        "\n",
        "t_un_train = 0.1 * t_u_train\n",
        "t_un_val = 0.1 * t_u_val\n",
        "\n"
      ]
    },
    {
      "cell_type": "code",
      "source": [
        "import torch.nn as nn\n",
        "\n",
        "linear_model = nn.Linear(1, 1)\n",
        "linear_model(t_un_val)"
      ],
      "metadata": {
        "colab": {
          "base_uri": "https://localhost:8080/"
        },
        "id": "ts-CDnBWiy_G",
        "outputId": "8b6ecf30-7ccd-44ba-a32f-cc9d324ebf9e"
      },
      "execution_count": 4,
      "outputs": [
        {
          "output_type": "execute_result",
          "data": {
            "text/plain": [
              "tensor([[3.5149],\n",
              "        [5.5933]], grad_fn=<AddmmBackward0>)"
            ]
          },
          "metadata": {},
          "execution_count": 4
        }
      ]
    },
    {
      "cell_type": "code",
      "source": [
        "t_un_val"
      ],
      "metadata": {
        "colab": {
          "base_uri": "https://localhost:8080/"
        },
        "id": "Oz_hO-Cu4YcN",
        "outputId": "777e5ca1-62e2-4f8e-c8ad-738ff86be721"
      },
      "execution_count": 6,
      "outputs": [
        {
          "output_type": "execute_result",
          "data": {
            "text/plain": [
              "tensor([[5.8200],\n",
              "        [4.8900]])"
            ]
          },
          "metadata": {},
          "execution_count": 6
        }
      ]
    },
    {
      "cell_type": "code",
      "source": [
        "# Model has just one feature, so just weight and bias\n",
        "linear_model.weight"
      ],
      "metadata": {
        "id": "OSqQ5g22izGz",
        "colab": {
          "base_uri": "https://localhost:8080/"
        },
        "outputId": "e1d68ae3-e0de-4625-d6e0-9cc592346141"
      },
      "execution_count": 4,
      "outputs": [
        {
          "output_type": "execute_result",
          "data": {
            "text/plain": [
              "Parameter containing:\n",
              "tensor([[-0.6344]], requires_grad=True)"
            ]
          },
          "metadata": {},
          "execution_count": 4
        }
      ]
    },
    {
      "cell_type": "code",
      "source": [
        "linear_model.bias"
      ],
      "metadata": {
        "colab": {
          "base_uri": "https://localhost:8080/"
        },
        "id": "dZGcf4li4Iwc",
        "outputId": "a0239ebd-5e6b-4e31-ebe5-5b807f951ae7"
      },
      "execution_count": 5,
      "outputs": [
        {
          "output_type": "execute_result",
          "data": {
            "text/plain": [
              "Parameter containing:\n",
              "tensor([-0.6675], requires_grad=True)"
            ]
          },
          "metadata": {},
          "execution_count": 5
        }
      ]
    },
    {
      "cell_type": "code",
      "source": [
        "x = torch.ones(1)\n",
        "linear_model(x)"
      ],
      "metadata": {
        "colab": {
          "base_uri": "https://localhost:8080/"
        },
        "id": "AXBW7CWR4I4C",
        "outputId": "b297cda4-bc81-40a3-88dc-8cc2db392457"
      },
      "execution_count": 7,
      "outputs": [
        {
          "output_type": "execute_result",
          "data": {
            "text/plain": [
              "tensor([-1.3019], grad_fn=<ViewBackward0>)"
            ]
          },
          "metadata": {},
          "execution_count": 7
        }
      ]
    },
    {
      "cell_type": "code",
      "source": [
        "x = torch.ones(10, 1)\n",
        "linear_model(x)"
      ],
      "metadata": {
        "id": "4p2_MzGvizOJ",
        "colab": {
          "base_uri": "https://localhost:8080/"
        },
        "outputId": "a6f3585a-6bea-4a7a-8ddc-983e8e45154a"
      },
      "execution_count": 10,
      "outputs": [
        {
          "output_type": "execute_result",
          "data": {
            "text/plain": [
              "tensor([[-1.3019],\n",
              "        [-1.3019],\n",
              "        [-1.3019],\n",
              "        [-1.3019],\n",
              "        [-1.3019],\n",
              "        [-1.3019],\n",
              "        [-1.3019],\n",
              "        [-1.3019],\n",
              "        [-1.3019],\n",
              "        [-1.3019]], grad_fn=<AddmmBackward0>)"
            ]
          },
          "metadata": {},
          "execution_count": 10
        }
      ]
    },
    {
      "cell_type": "code",
      "source": [
        "def training_loop(n_epochs, optimizer, model, loss_fn, t_u_train, t_u_val,\n",
        "                  t_c_train, t_c_val):\n",
        "\n",
        "  for epoch in range(1, n_epochs+1):\n",
        "    t_p_train = model(t_u_train)\n",
        "    loss_train = loss_fn(t_p_train, t_c_train)\n",
        "\n",
        "    t_p_val = model(t_u_val)\n",
        "    loss_val = loss_fn(t_p_val, t_c_val)\n",
        "\n",
        "    optimizer.zero_grad()\n",
        "    loss_train.backward()\n",
        "    optimizer.step()\n",
        "\n",
        "    if epoch % 1000 == 0:\n",
        "      print(f'Epoch: {epoch}, Training Loss {loss_train.item():.4f},'\n",
        "            f'Validation Loss {loss_val.item():.4f}')\n"
      ],
      "metadata": {
        "id": "bDImRniF55t5"
      },
      "execution_count": 8,
      "outputs": []
    },
    {
      "cell_type": "code",
      "source": [
        "\n",
        "linear_model = nn.Linear(1, 1)\n",
        "optimizer = optim.SGD(linear_model.parameters(), lr=1e-2)\n",
        "\n",
        "training_loop(\n",
        "    n_epochs=3000,\n",
        "    optimizer=optimizer,\n",
        "    model=linear_model,\n",
        "    loss_fn=nn.MSELoss(),\n",
        "    t_u_train=t_un_train,\n",
        "    t_u_val=t_un_val,\n",
        "    t_c_train=t_c_train,\n",
        "    t_c_val=t_c_val\n",
        ")\n",
        "\n",
        "print()\n",
        "print(linear_model.weight)\n",
        "print(linear_model.bias)"
      ],
      "metadata": {
        "colab": {
          "base_uri": "https://localhost:8080/"
        },
        "id": "Uo7GrrHg550H",
        "outputId": "1b676e8c-6b67-461c-f191-fd2842a61c41"
      },
      "execution_count": 32,
      "outputs": [
        {
          "output_type": "stream",
          "name": "stdout",
          "text": [
            "Epoch: 1000, Training Loss 4.5200,Validation Loss 10.7336\n",
            "Epoch: 2000, Training Loss 2.8780,Validation Loss 5.2495\n",
            "Epoch: 3000, Training Loss 2.7448,Validation Loss 4.7415\n",
            "\n",
            "Parameter containing:\n",
            "tensor([[5.2424]], requires_grad=True)\n",
            "Parameter containing:\n",
            "tensor([-17.0296], requires_grad=True)\n"
          ]
        }
      ]
    },
    {
      "cell_type": "code",
      "source": [
        "seq_model = nn.Sequential(\n",
        "    nn.Linear(1, 13),\n",
        "    nn.Tanh(),\n",
        "    nn.Linear(13, 1)\n",
        ")\n",
        "\n",
        "seq_model"
      ],
      "metadata": {
        "colab": {
          "base_uri": "https://localhost:8080/"
        },
        "id": "lBXtgaHw5554",
        "outputId": "6bd3d0bc-360b-4ebf-e893-c66006b0928c"
      },
      "execution_count": 33,
      "outputs": [
        {
          "output_type": "execute_result",
          "data": {
            "text/plain": [
              "Sequential(\n",
              "  (0): Linear(in_features=1, out_features=13, bias=True)\n",
              "  (1): Tanh()\n",
              "  (2): Linear(in_features=13, out_features=1, bias=True)\n",
              ")"
            ]
          },
          "metadata": {},
          "execution_count": 33
        }
      ]
    },
    {
      "cell_type": "code",
      "source": [
        "[param.shape for param in seq_model.parameters()]"
      ],
      "metadata": {
        "colab": {
          "base_uri": "https://localhost:8080/"
        },
        "id": "VyyFN6Ui95ER",
        "outputId": "3c37f637-a75c-4fc9-d267-27fed13afa7f"
      },
      "execution_count": 34,
      "outputs": [
        {
          "output_type": "execute_result",
          "data": {
            "text/plain": [
              "[torch.Size([13, 1]), torch.Size([13]), torch.Size([1, 13]), torch.Size([1])]"
            ]
          },
          "metadata": {},
          "execution_count": 34
        }
      ]
    },
    {
      "cell_type": "code",
      "source": [
        "from collections import OrderedDict\n",
        "\n",
        "seq_model = nn.Sequential(OrderedDict([\n",
        "    ('hidden_linear', nn.Linear(1, 13)),\n",
        "    ('hidden_activation', nn.Tanh()),\n",
        "    ('output_linear', nn.Linear(13, 1))\n",
        "]))\n",
        "\n",
        "seq_model"
      ],
      "metadata": {
        "colab": {
          "base_uri": "https://localhost:8080/"
        },
        "id": "ipG5YX5B95L8",
        "outputId": "58ed243c-009a-44d5-84a3-87828645bce2"
      },
      "execution_count": 6,
      "outputs": [
        {
          "output_type": "execute_result",
          "data": {
            "text/plain": [
              "Sequential(\n",
              "  (hidden_linear): Linear(in_features=1, out_features=13, bias=True)\n",
              "  (hidden_activation): Tanh()\n",
              "  (output_linear): Linear(in_features=13, out_features=1, bias=True)\n",
              ")"
            ]
          },
          "metadata": {},
          "execution_count": 6
        }
      ]
    },
    {
      "cell_type": "code",
      "source": [
        "for name, param in seq_model.named_parameters():\n",
        "  print(name, param.shape)"
      ],
      "metadata": {
        "colab": {
          "base_uri": "https://localhost:8080/"
        },
        "id": "DE6OCKFA95SW",
        "outputId": "67f21bb8-a0fd-4fcb-8679-c1609cb6bc5d"
      },
      "execution_count": 39,
      "outputs": [
        {
          "output_type": "stream",
          "name": "stdout",
          "text": [
            "hidden_linear.weight torch.Size([13, 1])\n",
            "hidden_linear.bias torch.Size([13])\n",
            "output_linear.weight torch.Size([1, 13])\n",
            "output_linear.bias torch.Size([1])\n"
          ]
        }
      ]
    },
    {
      "cell_type": "code",
      "source": [
        "seq_model = nn.Sequential(OrderedDict([\n",
        "    ('hidden_linear', nn.Linear(1, 13)),\n",
        "    ('hidden_activation', nn.Tanh()),\n",
        "    ('output_linear', nn.Linear(13, 1))\n",
        "]))\n",
        "\n",
        "optimizer = optim.SGD(seq_model.parameters(), lr=1e-3)\n",
        "\n",
        "training_loop(\n",
        "    n_epochs=3000,\n",
        "    optimizer=optimizer,\n",
        "    model=seq_model,\n",
        "    loss_fn=nn.MSELoss(),\n",
        "    t_u_train=t_un_train,\n",
        "    t_u_val=t_un_val,\n",
        "    t_c_train=t_c_train,\n",
        "    t_c_val=t_c_val\n",
        ")\n",
        "\n",
        "print('output: ', seq_model(t_un_val))\n",
        "print('answer: ', t_c_val)"
      ],
      "metadata": {
        "colab": {
          "base_uri": "https://localhost:8080/"
        },
        "id": "N6lNJEsH95X5",
        "outputId": "8f00a805-8fcb-4365-c839-49ad6e73dd8d"
      },
      "execution_count": 9,
      "outputs": [
        {
          "output_type": "stream",
          "name": "stdout",
          "text": [
            "Epoch: 1000, Training Loss 3.2930,Validation Loss 4.5008\n",
            "Epoch: 2000, Training Loss 2.6051,Validation Loss 8.7685\n",
            "Epoch: 3000, Training Loss 1.8536,Validation Loss 6.9191\n",
            "output:  tensor([[ 1.6901],\n",
            "        [14.8302]], grad_fn=<AddmmBackward0>)\n",
            "answer:  tensor([[ 0.5000],\n",
            "        [13.0000]])\n"
          ]
        }
      ]
    },
    {
      "cell_type": "code",
      "source": [
        "from matplotlib import pyplot as plt\n",
        "\n",
        "t_range = torch.arange(20., 90.).unsqueeze(1)\n",
        "\n",
        "fig = plt.figure()\n",
        "plt.xlabel('F')\n",
        "plt.ylabel('C')\n",
        "plt.plot(t_u.numpy(), t_c.numpy(), 'o')\n",
        "plt.plot(t_range.numpy(), seq_model(0.1 * t_range).detach().numpy(), 'c-')\n",
        "plt.plot(t_u.numpy(), seq_model(0.1 * t_u).detach().numpy(), 'kx')"
      ],
      "metadata": {
        "colab": {
          "base_uri": "https://localhost:8080/",
          "height": 467
        },
        "id": "lBqEDYK3_cmW",
        "outputId": "81595121-92b6-4e62-ad91-fe0dfa96c203"
      },
      "execution_count": 10,
      "outputs": [
        {
          "output_type": "execute_result",
          "data": {
            "text/plain": [
              "[<matplotlib.lines.Line2D at 0x7b4fc41ca350>]"
            ]
          },
          "metadata": {},
          "execution_count": 10
        },
        {
          "output_type": "display_data",
          "data": {
            "text/plain": [
              "<Figure size 640x480 with 1 Axes>"
            ],
            "image/png": "[encoded data removed]"
          },
          "metadata": {}
        }
      ]
    }
  ]
}